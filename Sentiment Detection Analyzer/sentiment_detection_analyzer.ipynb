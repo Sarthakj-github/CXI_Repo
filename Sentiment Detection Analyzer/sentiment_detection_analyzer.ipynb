{
 "cells": [
  {
   "cell_type": "code",
   "execution_count": 11,
   "metadata": {},
   "outputs": [
    {
     "name": "stdout",
     "output_type": "stream",
     "text": [
      "Requirement already satisfied: textblob in c:\\users\\lenovo\\appdata\\local\\programs\\python\\python312\\lib\\site-packages (0.18.0.post0)\n",
      "Requirement already satisfied: nltk>=3.8 in c:\\users\\lenovo\\appdata\\local\\programs\\python\\python312\\lib\\site-packages (from textblob) (3.9.1)\n",
      "Requirement already satisfied: click in c:\\users\\lenovo\\appdata\\local\\programs\\python\\python312\\lib\\site-packages (from nltk>=3.8->textblob) (8.1.7)\n",
      "Requirement already satisfied: joblib in c:\\users\\lenovo\\appdata\\local\\programs\\python\\python312\\lib\\site-packages (from nltk>=3.8->textblob) (1.4.2)\n",
      "Requirement already satisfied: regex>=2021.8.3 in c:\\users\\lenovo\\appdata\\local\\programs\\python\\python312\\lib\\site-packages (from nltk>=3.8->textblob) (2024.11.6)\n",
      "Requirement already satisfied: tqdm in c:\\users\\lenovo\\appdata\\local\\programs\\python\\python312\\lib\\site-packages (from nltk>=3.8->textblob) (4.67.0)\n",
      "Requirement already satisfied: colorama in c:\\users\\lenovo\\appdata\\local\\programs\\python\\python312\\lib\\site-packages (from click->nltk>=3.8->textblob) (0.4.6)\n",
      "Note: you may need to restart the kernel to use updated packages.\n"
     ]
    },
    {
     "name": "stderr",
     "output_type": "stream",
     "text": [
      "\n",
      "[notice] A new release of pip is available: 23.2.1 -> 24.3.1\n",
      "[notice] To update, run: python.exe -m pip install --upgrade pip\n"
     ]
    }
   ],
   "source": [
    "%pip install textblob"
   ]
  },
  {
   "cell_type": "code",
   "execution_count": 12,
   "metadata": {},
   "outputs": [],
   "source": [
    "from textblob import TextBlob"
   ]
  },
  {
   "cell_type": "code",
   "execution_count": null,
   "metadata": {},
   "outputs": [],
   "source": [
    "def analyze_sentiment(text):\n",
    "    \n",
    "    # Create a TextBlob object\n",
    "    blob = TextBlob(text)\n",
    "    \n",
    "    # Analyze the sentiment\n",
    "    sentiment = blob.sentiment\n",
    "    polarity = sentiment.polarity  # ranges from -1 (negative) to 1 (positive)\n",
    "    subjectivity = sentiment.subjectivity  # ranges from 0 (objective) to 1 (subjective)\n",
    "    sentiment_category = [None,None]\n",
    "    \n",
    "    # Determine sentiment category\n",
    "    if polarity<-0.5:\n",
    "        sentiment_category[0] = 'Negative'\n",
    "    elif polarity<0:\n",
    "        sentiment_category[0] = 'Less Negative'\n",
    "    elif polarity==0:\n",
    "        sentiment_category[0] = 'Neutral'\n",
    "    elif polarity<0.5:\n",
    "        sentiment_category[0] = 'Less Positive'\n",
    "    else:\n",
    "        sentiment_category[0] = 'Positive'\n",
    "    \n",
    "    if subjectivity<0.25:\n",
    "        sentiment_category[1] = 'Factual'\n",
    "    elif subjectivity<0.5:\n",
    "        sentiment_category[1] = 'Less Factual'\n",
    "    elif subjectivity<0.75:\n",
    "        sentiment_category[1] = 'Less Personal'\n",
    "    else:\n",
    "        sentiment_category[1] = 'Personal'\n",
    "\n",
    "    return sentiment_category"
   ]
  },
  {
   "cell_type": "code",
   "execution_count": 14,
   "metadata": {},
   "outputs": [
    {
     "name": "stdout",
     "output_type": "stream",
     "text": [
      "Input content is Negative and Personal.\n"
     ]
    }
   ],
   "source": [
    "with open('content.txt','r') as fl:\n",
    "    text = fl.read().strip('\\n')\n",
    "    result = analyze_sentiment(text)\n",
    "    print(f\"Input content is {result[0]} and {result[1]}.\")"
   ]
  }
 ],
 "metadata": {
  "kernelspec": {
   "display_name": "Python 3",
   "language": "python",
   "name": "python3"
  },
  "language_info": {
   "codemirror_mode": {
    "name": "ipython",
    "version": 3
   },
   "file_extension": ".py",
   "mimetype": "text/x-python",
   "name": "python",
   "nbconvert_exporter": "python",
   "pygments_lexer": "ipython3",
   "version": "3.12.0"
  }
 },
 "nbformat": 4,
 "nbformat_minor": 2
}
